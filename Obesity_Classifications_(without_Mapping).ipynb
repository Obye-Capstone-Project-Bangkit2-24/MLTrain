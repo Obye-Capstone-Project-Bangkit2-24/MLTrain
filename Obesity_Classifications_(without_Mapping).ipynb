{
  "cells": [
    {
      "cell_type": "code",
      "execution_count": 1,
      "metadata": {
        "id": "pD-S8TsHKTGV"
      },
      "outputs": [
        {
          "name": "stdout",
          "output_type": "stream",
          "text": [
            "WARNING:tensorflow:From C:\\Users\\USER\\AppData\\Roaming\\Python\\Python311\\site-packages\\keras\\src\\losses.py:2976: The name tf.losses.sparse_softmax_cross_entropy is deprecated. Please use tf.compat.v1.losses.sparse_softmax_cross_entropy instead.\n",
            "\n"
          ]
        }
      ],
      "source": [
        "import pandas as pd\n",
        "import numpy as np\n",
        "import seaborn as sns\n",
        "import matplotlib.pyplot as plt\n",
        "import tensorflow as tf\n",
        "\n",
        "from sklearn.model_selection import train_test_split\n",
        "from sklearn.preprocessing import LabelEncoder, StandardScaler\n",
        "from tensorflow import keras\n",
        "from tensorflow.keras import layers\n",
        "from tensorflow.keras.callbacks import EarlyStopping"
      ]
    },
    {
      "cell_type": "code",
      "execution_count": 2,
      "metadata": {
        "colab": {
          "base_uri": "https://localhost:8080/"
        },
        "id": "RXaIeKhxKTGa",
        "outputId": "ce2bf6d2-c43f-45d1-fdde-c8c02f0ebac2"
      },
      "outputs": [
        {
          "ename": "FileNotFoundError",
          "evalue": "[Errno 2] No such file or directory: 'D:/Coding/Semester 5/Capstone/MLTrain/data/ObesityDataSet_raw_and_data_sinthetic.csv'",
          "output_type": "error",
          "traceback": [
            "\u001b[1;31m---------------------------------------------------------------------------\u001b[0m",
            "\u001b[1;31mFileNotFoundError\u001b[0m                         Traceback (most recent call last)",
            "Cell \u001b[1;32mIn[2], line 2\u001b[0m\n\u001b[0;32m      1\u001b[0m \u001b[38;5;66;03m# Membaca data dari CSV\u001b[39;00m\n\u001b[1;32m----> 2\u001b[0m df \u001b[38;5;241m=\u001b[39m \u001b[43mpd\u001b[49m\u001b[38;5;241;43m.\u001b[39;49m\u001b[43mread_csv\u001b[49m\u001b[43m(\u001b[49m\u001b[38;5;124;43m'\u001b[39;49m\u001b[38;5;124;43mD:/Coding/Semester 5/Capstone/MLTrain/data/ObesityDataSet_raw_and_data_sinthetic.csv\u001b[39;49m\u001b[38;5;124;43m'\u001b[39;49m\u001b[43m)\u001b[49m\n\u001b[0;32m      4\u001b[0m \u001b[38;5;66;03m# Menampilkan beberapa baris pertama\u001b[39;00m\n\u001b[0;32m      5\u001b[0m \u001b[38;5;28mprint\u001b[39m(df\u001b[38;5;241m.\u001b[39mhead())\n",
            "File \u001b[1;32m~\\AppData\\Roaming\\Python\\Python311\\site-packages\\pandas\\io\\parsers\\readers.py:912\u001b[0m, in \u001b[0;36mread_csv\u001b[1;34m(filepath_or_buffer, sep, delimiter, header, names, index_col, usecols, dtype, engine, converters, true_values, false_values, skipinitialspace, skiprows, skipfooter, nrows, na_values, keep_default_na, na_filter, verbose, skip_blank_lines, parse_dates, infer_datetime_format, keep_date_col, date_parser, date_format, dayfirst, cache_dates, iterator, chunksize, compression, thousands, decimal, lineterminator, quotechar, quoting, doublequote, escapechar, comment, encoding, encoding_errors, dialect, on_bad_lines, delim_whitespace, low_memory, memory_map, float_precision, storage_options, dtype_backend)\u001b[0m\n\u001b[0;32m    899\u001b[0m kwds_defaults \u001b[38;5;241m=\u001b[39m _refine_defaults_read(\n\u001b[0;32m    900\u001b[0m     dialect,\n\u001b[0;32m    901\u001b[0m     delimiter,\n\u001b[1;32m   (...)\u001b[0m\n\u001b[0;32m    908\u001b[0m     dtype_backend\u001b[38;5;241m=\u001b[39mdtype_backend,\n\u001b[0;32m    909\u001b[0m )\n\u001b[0;32m    910\u001b[0m kwds\u001b[38;5;241m.\u001b[39mupdate(kwds_defaults)\n\u001b[1;32m--> 912\u001b[0m \u001b[38;5;28;01mreturn\u001b[39;00m \u001b[43m_read\u001b[49m\u001b[43m(\u001b[49m\u001b[43mfilepath_or_buffer\u001b[49m\u001b[43m,\u001b[49m\u001b[43m \u001b[49m\u001b[43mkwds\u001b[49m\u001b[43m)\u001b[49m\n",
            "File \u001b[1;32m~\\AppData\\Roaming\\Python\\Python311\\site-packages\\pandas\\io\\parsers\\readers.py:577\u001b[0m, in \u001b[0;36m_read\u001b[1;34m(filepath_or_buffer, kwds)\u001b[0m\n\u001b[0;32m    574\u001b[0m _validate_names(kwds\u001b[38;5;241m.\u001b[39mget(\u001b[38;5;124m\"\u001b[39m\u001b[38;5;124mnames\u001b[39m\u001b[38;5;124m\"\u001b[39m, \u001b[38;5;28;01mNone\u001b[39;00m))\n\u001b[0;32m    576\u001b[0m \u001b[38;5;66;03m# Create the parser.\u001b[39;00m\n\u001b[1;32m--> 577\u001b[0m parser \u001b[38;5;241m=\u001b[39m \u001b[43mTextFileReader\u001b[49m\u001b[43m(\u001b[49m\u001b[43mfilepath_or_buffer\u001b[49m\u001b[43m,\u001b[49m\u001b[43m \u001b[49m\u001b[38;5;241;43m*\u001b[39;49m\u001b[38;5;241;43m*\u001b[39;49m\u001b[43mkwds\u001b[49m\u001b[43m)\u001b[49m\n\u001b[0;32m    579\u001b[0m \u001b[38;5;28;01mif\u001b[39;00m chunksize \u001b[38;5;129;01mor\u001b[39;00m iterator:\n\u001b[0;32m    580\u001b[0m     \u001b[38;5;28;01mreturn\u001b[39;00m parser\n",
            "File \u001b[1;32m~\\AppData\\Roaming\\Python\\Python311\\site-packages\\pandas\\io\\parsers\\readers.py:1407\u001b[0m, in \u001b[0;36mTextFileReader.__init__\u001b[1;34m(self, f, engine, **kwds)\u001b[0m\n\u001b[0;32m   1404\u001b[0m     \u001b[38;5;28mself\u001b[39m\u001b[38;5;241m.\u001b[39moptions[\u001b[38;5;124m\"\u001b[39m\u001b[38;5;124mhas_index_names\u001b[39m\u001b[38;5;124m\"\u001b[39m] \u001b[38;5;241m=\u001b[39m kwds[\u001b[38;5;124m\"\u001b[39m\u001b[38;5;124mhas_index_names\u001b[39m\u001b[38;5;124m\"\u001b[39m]\n\u001b[0;32m   1406\u001b[0m \u001b[38;5;28mself\u001b[39m\u001b[38;5;241m.\u001b[39mhandles: IOHandles \u001b[38;5;241m|\u001b[39m \u001b[38;5;28;01mNone\u001b[39;00m \u001b[38;5;241m=\u001b[39m \u001b[38;5;28;01mNone\u001b[39;00m\n\u001b[1;32m-> 1407\u001b[0m \u001b[38;5;28mself\u001b[39m\u001b[38;5;241m.\u001b[39m_engine \u001b[38;5;241m=\u001b[39m \u001b[38;5;28;43mself\u001b[39;49m\u001b[38;5;241;43m.\u001b[39;49m\u001b[43m_make_engine\u001b[49m\u001b[43m(\u001b[49m\u001b[43mf\u001b[49m\u001b[43m,\u001b[49m\u001b[43m \u001b[49m\u001b[38;5;28;43mself\u001b[39;49m\u001b[38;5;241;43m.\u001b[39;49m\u001b[43mengine\u001b[49m\u001b[43m)\u001b[49m\n",
            "File \u001b[1;32m~\\AppData\\Roaming\\Python\\Python311\\site-packages\\pandas\\io\\parsers\\readers.py:1661\u001b[0m, in \u001b[0;36mTextFileReader._make_engine\u001b[1;34m(self, f, engine)\u001b[0m\n\u001b[0;32m   1659\u001b[0m     \u001b[38;5;28;01mif\u001b[39;00m \u001b[38;5;124m\"\u001b[39m\u001b[38;5;124mb\u001b[39m\u001b[38;5;124m\"\u001b[39m \u001b[38;5;129;01mnot\u001b[39;00m \u001b[38;5;129;01min\u001b[39;00m mode:\n\u001b[0;32m   1660\u001b[0m         mode \u001b[38;5;241m+\u001b[39m\u001b[38;5;241m=\u001b[39m \u001b[38;5;124m\"\u001b[39m\u001b[38;5;124mb\u001b[39m\u001b[38;5;124m\"\u001b[39m\n\u001b[1;32m-> 1661\u001b[0m \u001b[38;5;28mself\u001b[39m\u001b[38;5;241m.\u001b[39mhandles \u001b[38;5;241m=\u001b[39m \u001b[43mget_handle\u001b[49m\u001b[43m(\u001b[49m\n\u001b[0;32m   1662\u001b[0m \u001b[43m    \u001b[49m\u001b[43mf\u001b[49m\u001b[43m,\u001b[49m\n\u001b[0;32m   1663\u001b[0m \u001b[43m    \u001b[49m\u001b[43mmode\u001b[49m\u001b[43m,\u001b[49m\n\u001b[0;32m   1664\u001b[0m \u001b[43m    \u001b[49m\u001b[43mencoding\u001b[49m\u001b[38;5;241;43m=\u001b[39;49m\u001b[38;5;28;43mself\u001b[39;49m\u001b[38;5;241;43m.\u001b[39;49m\u001b[43moptions\u001b[49m\u001b[38;5;241;43m.\u001b[39;49m\u001b[43mget\u001b[49m\u001b[43m(\u001b[49m\u001b[38;5;124;43m\"\u001b[39;49m\u001b[38;5;124;43mencoding\u001b[39;49m\u001b[38;5;124;43m\"\u001b[39;49m\u001b[43m,\u001b[49m\u001b[43m \u001b[49m\u001b[38;5;28;43;01mNone\u001b[39;49;00m\u001b[43m)\u001b[49m\u001b[43m,\u001b[49m\n\u001b[0;32m   1665\u001b[0m \u001b[43m    \u001b[49m\u001b[43mcompression\u001b[49m\u001b[38;5;241;43m=\u001b[39;49m\u001b[38;5;28;43mself\u001b[39;49m\u001b[38;5;241;43m.\u001b[39;49m\u001b[43moptions\u001b[49m\u001b[38;5;241;43m.\u001b[39;49m\u001b[43mget\u001b[49m\u001b[43m(\u001b[49m\u001b[38;5;124;43m\"\u001b[39;49m\u001b[38;5;124;43mcompression\u001b[39;49m\u001b[38;5;124;43m\"\u001b[39;49m\u001b[43m,\u001b[49m\u001b[43m \u001b[49m\u001b[38;5;28;43;01mNone\u001b[39;49;00m\u001b[43m)\u001b[49m\u001b[43m,\u001b[49m\n\u001b[0;32m   1666\u001b[0m \u001b[43m    \u001b[49m\u001b[43mmemory_map\u001b[49m\u001b[38;5;241;43m=\u001b[39;49m\u001b[38;5;28;43mself\u001b[39;49m\u001b[38;5;241;43m.\u001b[39;49m\u001b[43moptions\u001b[49m\u001b[38;5;241;43m.\u001b[39;49m\u001b[43mget\u001b[49m\u001b[43m(\u001b[49m\u001b[38;5;124;43m\"\u001b[39;49m\u001b[38;5;124;43mmemory_map\u001b[39;49m\u001b[38;5;124;43m\"\u001b[39;49m\u001b[43m,\u001b[49m\u001b[43m \u001b[49m\u001b[38;5;28;43;01mFalse\u001b[39;49;00m\u001b[43m)\u001b[49m\u001b[43m,\u001b[49m\n\u001b[0;32m   1667\u001b[0m \u001b[43m    \u001b[49m\u001b[43mis_text\u001b[49m\u001b[38;5;241;43m=\u001b[39;49m\u001b[43mis_text\u001b[49m\u001b[43m,\u001b[49m\n\u001b[0;32m   1668\u001b[0m \u001b[43m    \u001b[49m\u001b[43merrors\u001b[49m\u001b[38;5;241;43m=\u001b[39;49m\u001b[38;5;28;43mself\u001b[39;49m\u001b[38;5;241;43m.\u001b[39;49m\u001b[43moptions\u001b[49m\u001b[38;5;241;43m.\u001b[39;49m\u001b[43mget\u001b[49m\u001b[43m(\u001b[49m\u001b[38;5;124;43m\"\u001b[39;49m\u001b[38;5;124;43mencoding_errors\u001b[39;49m\u001b[38;5;124;43m\"\u001b[39;49m\u001b[43m,\u001b[49m\u001b[43m \u001b[49m\u001b[38;5;124;43m\"\u001b[39;49m\u001b[38;5;124;43mstrict\u001b[39;49m\u001b[38;5;124;43m\"\u001b[39;49m\u001b[43m)\u001b[49m\u001b[43m,\u001b[49m\n\u001b[0;32m   1669\u001b[0m \u001b[43m    \u001b[49m\u001b[43mstorage_options\u001b[49m\u001b[38;5;241;43m=\u001b[39;49m\u001b[38;5;28;43mself\u001b[39;49m\u001b[38;5;241;43m.\u001b[39;49m\u001b[43moptions\u001b[49m\u001b[38;5;241;43m.\u001b[39;49m\u001b[43mget\u001b[49m\u001b[43m(\u001b[49m\u001b[38;5;124;43m\"\u001b[39;49m\u001b[38;5;124;43mstorage_options\u001b[39;49m\u001b[38;5;124;43m\"\u001b[39;49m\u001b[43m,\u001b[49m\u001b[43m \u001b[49m\u001b[38;5;28;43;01mNone\u001b[39;49;00m\u001b[43m)\u001b[49m\u001b[43m,\u001b[49m\n\u001b[0;32m   1670\u001b[0m \u001b[43m\u001b[49m\u001b[43m)\u001b[49m\n\u001b[0;32m   1671\u001b[0m \u001b[38;5;28;01massert\u001b[39;00m \u001b[38;5;28mself\u001b[39m\u001b[38;5;241m.\u001b[39mhandles \u001b[38;5;129;01mis\u001b[39;00m \u001b[38;5;129;01mnot\u001b[39;00m \u001b[38;5;28;01mNone\u001b[39;00m\n\u001b[0;32m   1672\u001b[0m f \u001b[38;5;241m=\u001b[39m \u001b[38;5;28mself\u001b[39m\u001b[38;5;241m.\u001b[39mhandles\u001b[38;5;241m.\u001b[39mhandle\n",
            "File \u001b[1;32m~\\AppData\\Roaming\\Python\\Python311\\site-packages\\pandas\\io\\common.py:859\u001b[0m, in \u001b[0;36mget_handle\u001b[1;34m(path_or_buf, mode, encoding, compression, memory_map, is_text, errors, storage_options)\u001b[0m\n\u001b[0;32m    854\u001b[0m \u001b[38;5;28;01melif\u001b[39;00m \u001b[38;5;28misinstance\u001b[39m(handle, \u001b[38;5;28mstr\u001b[39m):\n\u001b[0;32m    855\u001b[0m     \u001b[38;5;66;03m# Check whether the filename is to be opened in binary mode.\u001b[39;00m\n\u001b[0;32m    856\u001b[0m     \u001b[38;5;66;03m# Binary mode does not support 'encoding' and 'newline'.\u001b[39;00m\n\u001b[0;32m    857\u001b[0m     \u001b[38;5;28;01mif\u001b[39;00m ioargs\u001b[38;5;241m.\u001b[39mencoding \u001b[38;5;129;01mand\u001b[39;00m \u001b[38;5;124m\"\u001b[39m\u001b[38;5;124mb\u001b[39m\u001b[38;5;124m\"\u001b[39m \u001b[38;5;129;01mnot\u001b[39;00m \u001b[38;5;129;01min\u001b[39;00m ioargs\u001b[38;5;241m.\u001b[39mmode:\n\u001b[0;32m    858\u001b[0m         \u001b[38;5;66;03m# Encoding\u001b[39;00m\n\u001b[1;32m--> 859\u001b[0m         handle \u001b[38;5;241m=\u001b[39m \u001b[38;5;28;43mopen\u001b[39;49m\u001b[43m(\u001b[49m\n\u001b[0;32m    860\u001b[0m \u001b[43m            \u001b[49m\u001b[43mhandle\u001b[49m\u001b[43m,\u001b[49m\n\u001b[0;32m    861\u001b[0m \u001b[43m            \u001b[49m\u001b[43mioargs\u001b[49m\u001b[38;5;241;43m.\u001b[39;49m\u001b[43mmode\u001b[49m\u001b[43m,\u001b[49m\n\u001b[0;32m    862\u001b[0m \u001b[43m            \u001b[49m\u001b[43mencoding\u001b[49m\u001b[38;5;241;43m=\u001b[39;49m\u001b[43mioargs\u001b[49m\u001b[38;5;241;43m.\u001b[39;49m\u001b[43mencoding\u001b[49m\u001b[43m,\u001b[49m\n\u001b[0;32m    863\u001b[0m \u001b[43m            \u001b[49m\u001b[43merrors\u001b[49m\u001b[38;5;241;43m=\u001b[39;49m\u001b[43merrors\u001b[49m\u001b[43m,\u001b[49m\n\u001b[0;32m    864\u001b[0m \u001b[43m            \u001b[49m\u001b[43mnewline\u001b[49m\u001b[38;5;241;43m=\u001b[39;49m\u001b[38;5;124;43m\"\u001b[39;49m\u001b[38;5;124;43m\"\u001b[39;49m\u001b[43m,\u001b[49m\n\u001b[0;32m    865\u001b[0m \u001b[43m        \u001b[49m\u001b[43m)\u001b[49m\n\u001b[0;32m    866\u001b[0m     \u001b[38;5;28;01melse\u001b[39;00m:\n\u001b[0;32m    867\u001b[0m         \u001b[38;5;66;03m# Binary mode\u001b[39;00m\n\u001b[0;32m    868\u001b[0m         handle \u001b[38;5;241m=\u001b[39m \u001b[38;5;28mopen\u001b[39m(handle, ioargs\u001b[38;5;241m.\u001b[39mmode)\n",
            "\u001b[1;31mFileNotFoundError\u001b[0m: [Errno 2] No such file or directory: 'D:/Coding/Semester 5/Capstone/MLTrain/data/ObesityDataSet_raw_and_data_sinthetic.csv'"
          ]
        }
      ],
      "source": [
        "# Membaca data dari CSV\n",
        "df = pd.read_csv('D:/Coding/Semester 5/Capstone/MLTrain/data/ObesityDataSet_raw_and_data_sinthetic.csv')\n",
        "\n",
        "# Menampilkan beberapa baris pertama\n",
        "print(df.head())"
      ]
    },
    {
      "cell_type": "code",
      "execution_count": 3,
      "metadata": {
        "colab": {
          "base_uri": "https://localhost:8080/"
        },
        "id": "ZijlhUuPd3ww",
        "outputId": "b1a35a18-db04-4eb9-b265-b8eff8f77662"
      },
      "outputs": [
        {
          "name": "stdout",
          "output_type": "stream",
          "text": [
            "<class 'pandas.core.frame.DataFrame'>\n",
            "RangeIndex: 2111 entries, 0 to 2110\n",
            "Data columns (total 17 columns):\n",
            " #   Column                          Non-Null Count  Dtype  \n",
            "---  ------                          --------------  -----  \n",
            " 0   Gender                          2111 non-null   object \n",
            " 1   Age                             2111 non-null   float64\n",
            " 2   Height                          2111 non-null   float64\n",
            " 3   Weight                          2111 non-null   float64\n",
            " 4   family_history_with_overweight  2111 non-null   object \n",
            " 5   FAVC                            2111 non-null   object \n",
            " 6   FCVC                            2111 non-null   float64\n",
            " 7   NCP                             2111 non-null   float64\n",
            " 8   CAEC                            2111 non-null   object \n",
            " 9   SMOKE                           2111 non-null   object \n",
            " 10  CH2O                            2111 non-null   float64\n",
            " 11  SCC                             2111 non-null   object \n",
            " 12  FAF                             2111 non-null   float64\n",
            " 13  TUE                             2111 non-null   float64\n",
            " 14  CALC                            2111 non-null   object \n",
            " 15  MTRANS                          2111 non-null   object \n",
            " 16  NObeyesdad                      2111 non-null   object \n",
            "dtypes: float64(8), object(9)\n",
            "memory usage: 280.5+ KB\n",
            "None\n"
          ]
        }
      ],
      "source": [
        "print(df.info())"
      ]
    },
    {
      "cell_type": "code",
      "execution_count": 4,
      "metadata": {
        "colab": {
          "base_uri": "https://localhost:8080/"
        },
        "id": "-AOodD0sjqcF",
        "outputId": "fefc1472-9774-49b5-c6d3-0bc01fdb3e19"
      },
      "outputs": [
        {
          "data": {
            "text/plain": [
              "(2111, 17)"
            ]
          },
          "execution_count": 4,
          "metadata": {},
          "output_type": "execute_result"
        }
      ],
      "source": [
        "df.shape"
      ]
    },
    {
      "cell_type": "code",
      "execution_count": 5,
      "metadata": {
        "colab": {
          "base_uri": "https://localhost:8080/"
        },
        "id": "UTiiU79ud631",
        "outputId": "eb03cd65-43ce-4ae5-dceb-6fad853d2435"
      },
      "outputs": [
        {
          "name": "stdout",
          "output_type": "stream",
          "text": [
            "               Age       Height       Weight         FCVC          NCP  \\\n",
            "count  2111.000000  2111.000000  2111.000000  2111.000000  2111.000000   \n",
            "mean     24.312600     1.701677    86.586058     2.419043     2.685628   \n",
            "std       6.345968     0.093305    26.191172     0.533927     0.778039   \n",
            "min      14.000000     1.450000    39.000000     1.000000     1.000000   \n",
            "25%      19.947192     1.630000    65.473343     2.000000     2.658738   \n",
            "50%      22.777890     1.700499    83.000000     2.385502     3.000000   \n",
            "75%      26.000000     1.768464   107.430682     3.000000     3.000000   \n",
            "max      61.000000     1.980000   173.000000     3.000000     4.000000   \n",
            "\n",
            "              CH2O          FAF          TUE  \n",
            "count  2111.000000  2111.000000  2111.000000  \n",
            "mean      2.008011     1.010298     0.657866  \n",
            "std       0.612953     0.850592     0.608927  \n",
            "min       1.000000     0.000000     0.000000  \n",
            "25%       1.584812     0.124505     0.000000  \n",
            "50%       2.000000     1.000000     0.625350  \n",
            "75%       2.477420     1.666678     1.000000  \n",
            "max       3.000000     3.000000     2.000000  \n"
          ]
        }
      ],
      "source": [
        "print(df.describe())"
      ]
    },
    {
      "cell_type": "code",
      "execution_count": 6,
      "metadata": {
        "colab": {
          "base_uri": "https://localhost:8080/",
          "height": 658
        },
        "id": "BZZ65zJtd-lI",
        "outputId": "43c5d819-8db6-4d81-953f-ce865fa5eabc"
      },
      "outputs": [
        {
          "data": {
            "image/png": "[encoded data removed]",
            "text/plain": [
              "<Figure size 1000x600 with 1 Axes>"
            ]
          },
          "metadata": {},
          "output_type": "display_data"
        }
      ],
      "source": [
        "# Visualisasi distribusi kelas target\n",
        "plt.figure(figsize=(10, 6))\n",
        "sns.countplot(data=df, x='NObeyesdad')\n",
        "plt.title('Distribution of Obesity Classes')\n",
        "plt.xticks(rotation=45)\n",
        "plt.show()"
      ]
    },
    {
      "cell_type": "code",
      "execution_count": 7,
      "metadata": {
        "colab": {
          "base_uri": "https://localhost:8080/",
          "height": 658
        },
        "id": "xR83bSSfeBQx",
        "outputId": "a66c0d0a-4157-4744-96a3-34753ff58920"
      },
      "outputs": [
        {
          "data": {
            "image/png": "[encoded data removed]",
            "text/plain": [
              "<Figure size 1200x600 with 1 Axes>"
            ]
          },
          "metadata": {},
          "output_type": "display_data"
        }
      ],
      "source": [
        "# Visualisasi hubungan antara fitur dan target\n",
        "plt.figure(figsize=(12, 6))\n",
        "sns.boxplot(data=df, x='NObeyesdad', y='Weight')\n",
        "plt.title('Weight Distribution by Obesity Class')\n",
        "plt.xticks(rotation=45)\n",
        "plt.show()"
      ]
    },
    {
      "cell_type": "code",
      "execution_count": 8,
      "metadata": {
        "colab": {
          "base_uri": "https://localhost:8080/"
        },
        "id": "LiSxew23eGpz",
        "outputId": "7789435c-51d6-488c-c3b3-b82bc71e918b"
      },
      "outputs": [
        {
          "name": "stdout",
          "output_type": "stream",
          "text": [
            "Missing values in each column:\n",
            " Series([], dtype: int64)\n"
          ]
        }
      ],
      "source": [
        "# Menghitung nilai yang hilang\n",
        "missing_values = df.isnull().sum()\n",
        "print(\"Missing values in each column:\\n\", missing_values[missing_values > 0])"
      ]
    },
    {
      "cell_type": "markdown",
      "metadata": {
        "id": "HqViAr9BeHtv"
      },
      "source": [
        "## Data Preprocessing"
      ]
    },
    {
      "cell_type": "code",
      "execution_count": 9,
      "metadata": {
        "id": "mxcPwqNMdkdN"
      },
      "outputs": [],
      "source": [
        "df.columns = ['Gender', 'Age', 'Height', 'Weight', 'Family History with Overweight',\n",
        "       'Frequent consumption of high caloric food', 'Frequency of consumption of vegetables', 'Number of main meals', 'Consumption of food between meals', 'Smoke', 'Consumption of water daily', 'Calories consumption monitoring', 'Physical activity frequency', 'Time using technology devices',\n",
        "       'Consumption of alcohol', 'Transportation used', 'Obesity']\n",
        "df['Weight'] = df['Weight'].round(1)\n",
        "df['Height'] = df['Height'].round(2)"
      ]
    },
    {
      "cell_type": "code",
      "execution_count": 10,
      "metadata": {
        "colab": {
          "base_uri": "https://localhost:8080/"
        },
        "id": "D5khShxjSwx6",
        "outputId": "cad50311-f2ac-468c-fd2a-01334ec45ab6"
      },
      "outputs": [
        {
          "name": "stdout",
          "output_type": "stream",
          "text": [
            "Age : min: 14 max: 61 int64\n",
            "[21 23 27 22 29 24 26 41 30 52 20 19 31 39 17 25 55 38 18 15 61 44 34 36\n",
            " 32 35 40 45 33 51 56 28 16 37 14 42 43 46 48 47]\n",
            "Frequency of consumption of vegetables : min: 1 max: 3 int64\n",
            "[2 3 1]\n",
            "Number of main meals : min: 1 max: 4 int64\n",
            "[3 1 4 2]\n",
            "Consumption of water daily : min: 1 max: 3 int64\n",
            "[2 3 1]\n",
            "Physical activity frequency : min: 0 max: 3 int64\n",
            "[0 3 2 1]\n",
            "Time using technology devices : min: 0 max: 2 int64\n",
            "[1 0 2]\n"
          ]
        }
      ],
      "source": [
        "for x in ['Age','Frequency of consumption of vegetables', 'Number of main meals', 'Consumption of water daily', 'Physical activity frequency', 'Time using technology devices']:\n",
        "    df[x] = df[x].apply(round)\n",
        "    value = np.array(df[x])\n",
        "    print(x,':', 'min:', np.min(value), 'max:', np.max(value), df[x].dtype)\n",
        "    print(df[x].unique())\n"
      ]
    },
    {
      "cell_type": "code",
      "execution_count": 11,
      "metadata": {
        "id": "a2zIw3F2bvr4"
      },
      "outputs": [],
      "source": [
        "from sklearn.preprocessing import LabelEncoder\n",
        "\n",
        "categorical_cols = ['Family History with Overweight','Frequent consumption of high caloric food', 'Consumption of food between meals', 'Smoke', 'Calories consumption monitoring','Consumption of alcohol', 'Transportation used', 'Obesity']\n",
        "\n",
        "label_encoders = {}\n",
        "\n",
        "for column in categorical_cols:\n",
        "    label_encoders[column] = LabelEncoder()\n",
        "    df[column] = label_encoders[column].fit_transform(df[column])"
      ]
    },
    {
      "cell_type": "code",
      "execution_count": 12,
      "metadata": {
        "colab": {
          "base_uri": "https://localhost:8080/",
          "height": 513
        },
        "id": "RHpu5MeIqFt7",
        "outputId": "4b4d2e58-7ddd-484a-ec9d-8e7237256388"
      },
      "outputs": [
        {
          "data": {
            "text/html": [
              "<div>\n",
              "<style scoped>\n",
              "    .dataframe tbody tr th:only-of-type {\n",
              "        vertical-align: middle;\n",
              "    }\n",
              "\n",
              "    .dataframe tbody tr th {\n",
              "        vertical-align: top;\n",
              "    }\n",
              "\n",
              "    .dataframe thead th {\n",
              "        text-align: right;\n",
              "    }\n",
              "</style>\n",
              "<table border=\"1\" class=\"dataframe\">\n",
              "  <thead>\n",
              "    <tr style=\"text-align: right;\">\n",
              "      <th></th>\n",
              "      <th>Gender</th>\n",
              "      <th>Age</th>\n",
              "      <th>Height</th>\n",
              "      <th>Weight</th>\n",
              "      <th>Family History with Overweight</th>\n",
              "      <th>Frequent consumption of high caloric food</th>\n",
              "      <th>Frequency of consumption of vegetables</th>\n",
              "      <th>Number of main meals</th>\n",
              "      <th>Consumption of food between meals</th>\n",
              "      <th>Smoke</th>\n",
              "      <th>Consumption of water daily</th>\n",
              "      <th>Calories consumption monitoring</th>\n",
              "      <th>Physical activity frequency</th>\n",
              "      <th>Time using technology devices</th>\n",
              "      <th>Consumption of alcohol</th>\n",
              "      <th>Transportation used</th>\n",
              "      <th>Obesity</th>\n",
              "    </tr>\n",
              "  </thead>\n",
              "  <tbody>\n",
              "    <tr>\n",
              "      <th>0</th>\n",
              "      <td>Female</td>\n",
              "      <td>21</td>\n",
              "      <td>1.62</td>\n",
              "      <td>64.0</td>\n",
              "      <td>1</td>\n",
              "      <td>0</td>\n",
              "      <td>2</td>\n",
              "      <td>3</td>\n",
              "      <td>2</td>\n",
              "      <td>0</td>\n",
              "      <td>2</td>\n",
              "      <td>0</td>\n",
              "      <td>0</td>\n",
              "      <td>1</td>\n",
              "      <td>3</td>\n",
              "      <td>3</td>\n",
              "      <td>1</td>\n",
              "    </tr>\n",
              "    <tr>\n",
              "      <th>1</th>\n",
              "      <td>Female</td>\n",
              "      <td>21</td>\n",
              "      <td>1.52</td>\n",
              "      <td>56.0</td>\n",
              "      <td>1</td>\n",
              "      <td>0</td>\n",
              "      <td>3</td>\n",
              "      <td>3</td>\n",
              "      <td>2</td>\n",
              "      <td>1</td>\n",
              "      <td>3</td>\n",
              "      <td>1</td>\n",
              "      <td>3</td>\n",
              "      <td>0</td>\n",
              "      <td>2</td>\n",
              "      <td>3</td>\n",
              "      <td>1</td>\n",
              "    </tr>\n",
              "    <tr>\n",
              "      <th>2</th>\n",
              "      <td>Male</td>\n",
              "      <td>23</td>\n",
              "      <td>1.80</td>\n",
              "      <td>77.0</td>\n",
              "      <td>1</td>\n",
              "      <td>0</td>\n",
              "      <td>2</td>\n",
              "      <td>3</td>\n",
              "      <td>2</td>\n",
              "      <td>0</td>\n",
              "      <td>2</td>\n",
              "      <td>0</td>\n",
              "      <td>2</td>\n",
              "      <td>1</td>\n",
              "      <td>1</td>\n",
              "      <td>3</td>\n",
              "      <td>1</td>\n",
              "    </tr>\n",
              "    <tr>\n",
              "      <th>3</th>\n",
              "      <td>Male</td>\n",
              "      <td>27</td>\n",
              "      <td>1.80</td>\n",
              "      <td>87.0</td>\n",
              "      <td>0</td>\n",
              "      <td>0</td>\n",
              "      <td>3</td>\n",
              "      <td>3</td>\n",
              "      <td>2</td>\n",
              "      <td>0</td>\n",
              "      <td>2</td>\n",
              "      <td>0</td>\n",
              "      <td>2</td>\n",
              "      <td>0</td>\n",
              "      <td>1</td>\n",
              "      <td>4</td>\n",
              "      <td>5</td>\n",
              "    </tr>\n",
              "    <tr>\n",
              "      <th>4</th>\n",
              "      <td>Male</td>\n",
              "      <td>22</td>\n",
              "      <td>1.78</td>\n",
              "      <td>89.8</td>\n",
              "      <td>0</td>\n",
              "      <td>0</td>\n",
              "      <td>2</td>\n",
              "      <td>1</td>\n",
              "      <td>2</td>\n",
              "      <td>0</td>\n",
              "      <td>2</td>\n",
              "      <td>0</td>\n",
              "      <td>0</td>\n",
              "      <td>0</td>\n",
              "      <td>2</td>\n",
              "      <td>3</td>\n",
              "      <td>6</td>\n",
              "    </tr>\n",
              "    <tr>\n",
              "      <th>...</th>\n",
              "      <td>...</td>\n",
              "      <td>...</td>\n",
              "      <td>...</td>\n",
              "      <td>...</td>\n",
              "      <td>...</td>\n",
              "      <td>...</td>\n",
              "      <td>...</td>\n",
              "      <td>...</td>\n",
              "      <td>...</td>\n",
              "      <td>...</td>\n",
              "      <td>...</td>\n",
              "      <td>...</td>\n",
              "      <td>...</td>\n",
              "      <td>...</td>\n",
              "      <td>...</td>\n",
              "      <td>...</td>\n",
              "      <td>...</td>\n",
              "    </tr>\n",
              "    <tr>\n",
              "      <th>2106</th>\n",
              "      <td>Female</td>\n",
              "      <td>21</td>\n",
              "      <td>1.71</td>\n",
              "      <td>131.4</td>\n",
              "      <td>1</td>\n",
              "      <td>1</td>\n",
              "      <td>3</td>\n",
              "      <td>3</td>\n",
              "      <td>2</td>\n",
              "      <td>0</td>\n",
              "      <td>2</td>\n",
              "      <td>0</td>\n",
              "      <td>2</td>\n",
              "      <td>1</td>\n",
              "      <td>2</td>\n",
              "      <td>3</td>\n",
              "      <td>4</td>\n",
              "    </tr>\n",
              "    <tr>\n",
              "      <th>2107</th>\n",
              "      <td>Female</td>\n",
              "      <td>22</td>\n",
              "      <td>1.75</td>\n",
              "      <td>133.7</td>\n",
              "      <td>1</td>\n",
              "      <td>1</td>\n",
              "      <td>3</td>\n",
              "      <td>3</td>\n",
              "      <td>2</td>\n",
              "      <td>0</td>\n",
              "      <td>2</td>\n",
              "      <td>0</td>\n",
              "      <td>1</td>\n",
              "      <td>1</td>\n",
              "      <td>2</td>\n",
              "      <td>3</td>\n",
              "      <td>4</td>\n",
              "    </tr>\n",
              "    <tr>\n",
              "      <th>2108</th>\n",
              "      <td>Female</td>\n",
              "      <td>23</td>\n",
              "      <td>1.75</td>\n",
              "      <td>133.7</td>\n",
              "      <td>1</td>\n",
              "      <td>1</td>\n",
              "      <td>3</td>\n",
              "      <td>3</td>\n",
              "      <td>2</td>\n",
              "      <td>0</td>\n",
              "      <td>2</td>\n",
              "      <td>0</td>\n",
              "      <td>1</td>\n",
              "      <td>1</td>\n",
              "      <td>2</td>\n",
              "      <td>3</td>\n",
              "      <td>4</td>\n",
              "    </tr>\n",
              "    <tr>\n",
              "      <th>2109</th>\n",
              "      <td>Female</td>\n",
              "      <td>24</td>\n",
              "      <td>1.74</td>\n",
              "      <td>133.3</td>\n",
              "      <td>1</td>\n",
              "      <td>1</td>\n",
              "      <td>3</td>\n",
              "      <td>3</td>\n",
              "      <td>2</td>\n",
              "      <td>0</td>\n",
              "      <td>3</td>\n",
              "      <td>0</td>\n",
              "      <td>1</td>\n",
              "      <td>1</td>\n",
              "      <td>2</td>\n",
              "      <td>3</td>\n",
              "      <td>4</td>\n",
              "    </tr>\n",
              "    <tr>\n",
              "      <th>2110</th>\n",
              "      <td>Female</td>\n",
              "      <td>24</td>\n",
              "      <td>1.74</td>\n",
              "      <td>133.5</td>\n",
              "      <td>1</td>\n",
              "      <td>1</td>\n",
              "      <td>3</td>\n",
              "      <td>3</td>\n",
              "      <td>2</td>\n",
              "      <td>0</td>\n",
              "      <td>3</td>\n",
              "      <td>0</td>\n",
              "      <td>1</td>\n",
              "      <td>1</td>\n",
              "      <td>2</td>\n",
              "      <td>3</td>\n",
              "      <td>4</td>\n",
              "    </tr>\n",
              "  </tbody>\n",
              "</table>\n",
              "<p>2111 rows × 17 columns</p>\n",
              "</div>"
            ],
            "text/plain": [
              "      Gender  Age  Height  Weight  Family History with Overweight  \\\n",
              "0     Female   21    1.62    64.0                               1   \n",
              "1     Female   21    1.52    56.0                               1   \n",
              "2       Male   23    1.80    77.0                               1   \n",
              "3       Male   27    1.80    87.0                               0   \n",
              "4       Male   22    1.78    89.8                               0   \n",
              "...      ...  ...     ...     ...                             ...   \n",
              "2106  Female   21    1.71   131.4                               1   \n",
              "2107  Female   22    1.75   133.7                               1   \n",
              "2108  Female   23    1.75   133.7                               1   \n",
              "2109  Female   24    1.74   133.3                               1   \n",
              "2110  Female   24    1.74   133.5                               1   \n",
              "\n",
              "      Frequent consumption of high caloric food  \\\n",
              "0                                             0   \n",
              "1                                             0   \n",
              "2                                             0   \n",
              "3                                             0   \n",
              "4                                             0   \n",
              "...                                         ...   \n",
              "2106                                          1   \n",
              "2107                                          1   \n",
              "2108                                          1   \n",
              "2109                                          1   \n",
              "2110                                          1   \n",
              "\n",
              "      Frequency of consumption of vegetables  Number of main meals  \\\n",
              "0                                          2                     3   \n",
              "1                                          3                     3   \n",
              "2                                          2                     3   \n",
              "3                                          3                     3   \n",
              "4                                          2                     1   \n",
              "...                                      ...                   ...   \n",
              "2106                                       3                     3   \n",
              "2107                                       3                     3   \n",
              "2108                                       3                     3   \n",
              "2109                                       3                     3   \n",
              "2110                                       3                     3   \n",
              "\n",
              "      Consumption of food between meals  Smoke  Consumption of water daily  \\\n",
              "0                                     2      0                           2   \n",
              "1                                     2      1                           3   \n",
              "2                                     2      0                           2   \n",
              "3                                     2      0                           2   \n",
              "4                                     2      0                           2   \n",
              "...                                 ...    ...                         ...   \n",
              "2106                                  2      0                           2   \n",
              "2107                                  2      0                           2   \n",
              "2108                                  2      0                           2   \n",
              "2109                                  2      0                           3   \n",
              "2110                                  2      0                           3   \n",
              "\n",
              "      Calories consumption monitoring  Physical activity frequency  \\\n",
              "0                                   0                            0   \n",
              "1                                   1                            3   \n",
              "2                                   0                            2   \n",
              "3                                   0                            2   \n",
              "4                                   0                            0   \n",
              "...                               ...                          ...   \n",
              "2106                                0                            2   \n",
              "2107                                0                            1   \n",
              "2108                                0                            1   \n",
              "2109                                0                            1   \n",
              "2110                                0                            1   \n",
              "\n",
              "      Time using technology devices  Consumption of alcohol  \\\n",
              "0                                 1                       3   \n",
              "1                                 0                       2   \n",
              "2                                 1                       1   \n",
              "3                                 0                       1   \n",
              "4                                 0                       2   \n",
              "...                             ...                     ...   \n",
              "2106                              1                       2   \n",
              "2107                              1                       2   \n",
              "2108                              1                       2   \n",
              "2109                              1                       2   \n",
              "2110                              1                       2   \n",
              "\n",
              "      Transportation used  Obesity  \n",
              "0                       3        1  \n",
              "1                       3        1  \n",
              "2                       3        1  \n",
              "3                       4        5  \n",
              "4                       3        6  \n",
              "...                   ...      ...  \n",
              "2106                    3        4  \n",
              "2107                    3        4  \n",
              "2108                    3        4  \n",
              "2109                    3        4  \n",
              "2110                    3        4  \n",
              "\n",
              "[2111 rows x 17 columns]"
            ]
          },
          "execution_count": 12,
          "metadata": {},
          "output_type": "execute_result"
        }
      ],
      "source": [
        "df"
      ]
    },
    {
      "cell_type": "code",
      "execution_count": 13,
      "metadata": {
        "colab": {
          "base_uri": "https://localhost:8080/"
        },
        "id": "qZMXoLQyez53",
        "outputId": "42994374-eed1-4b6e-aa7d-ff6ec36dca79"
      },
      "outputs": [
        {
          "data": {
            "text/plain": [
              "array([1, 5, 6, 2, 0, 3, 4])"
            ]
          },
          "execution_count": 13,
          "metadata": {},
          "output_type": "execute_result"
        }
      ],
      "source": [
        "df['Obesity'].unique()"
      ]
    },
    {
      "cell_type": "code",
      "execution_count": 14,
      "metadata": {
        "colab": {
          "base_uri": "https://localhost:8080/"
        },
        "id": "_zXz00QZpE9n",
        "outputId": "c1dfb977-2314-4336-9b7d-be6866dd679c"
      },
      "outputs": [
        {
          "data": {
            "text/plain": [
              "array([3, 4, 0, 2, 1])"
            ]
          },
          "execution_count": 14,
          "metadata": {},
          "output_type": "execute_result"
        }
      ],
      "source": [
        "df['Transportation used'].unique()"
      ]
    },
    {
      "cell_type": "code",
      "execution_count": 15,
      "metadata": {
        "colab": {
          "base_uri": "https://localhost:8080/"
        },
        "id": "lRmseKOLrK_z",
        "outputId": "fe7ca7de-39a5-4661-ec00-b3a4f88bfbde"
      },
      "outputs": [
        {
          "data": {
            "text/plain": [
              "array([3, 2, 1, 0])"
            ]
          },
          "execution_count": 15,
          "metadata": {},
          "output_type": "execute_result"
        }
      ],
      "source": [
        "df['Consumption of alcohol'].unique()"
      ]
    },
    {
      "cell_type": "code",
      "execution_count": 16,
      "metadata": {
        "colab": {
          "base_uri": "https://localhost:8080/"
        },
        "id": "jETl9zE_j3ph",
        "outputId": "020d3a28-3641-473c-e8fa-0371ee5a7e64"
      },
      "outputs": [
        {
          "data": {
            "text/plain": [
              "(2111, 17)"
            ]
          },
          "execution_count": 16,
          "metadata": {},
          "output_type": "execute_result"
        }
      ],
      "source": [
        "df.shape"
      ]
    },
    {
      "cell_type": "code",
      "execution_count": 17,
      "metadata": {
        "colab": {
          "base_uri": "https://localhost:8080/"
        },
        "id": "AoPwAo_OKTGb",
        "outputId": "8158ebcd-d7eb-4693-de40-f00eee496ffe"
      },
      "outputs": [
        {
          "name": "stdout",
          "output_type": "stream",
          "text": [
            "Training data shape: (1688, 17), (1688,)\n",
            "Testing data shape: (423, 17), (423,)\n"
          ]
        }
      ],
      "source": [
        "# label_encoder = LabelEncoder()\n",
        "# df['Obesity'] = label_encoder.fit_transform(df['NObeyesdad'])\n",
        "\n",
        "# Memisahkan fitur dan target\n",
        "X = df.drop(columns=['Obesity'])  # Menghapus kolom target dan kolom yang tidak diperlukan\n",
        "y = df['Obesity'].values\n",
        "\n",
        "# Mengonversi fitur kategorikal menjadi dummy variables\n",
        "X = pd.get_dummies(X)\n",
        "\n",
        "# Normalisasi fitur\n",
        "scaler = StandardScaler()\n",
        "for column in X.columns:\n",
        "    if column not in categorical_cols:\n",
        "      X[column] = scaler.fit_transform(X[[column]])\n",
        "\n",
        "X = X.values\n",
        "\n",
        "# Membagi data menjadi data latih dan data uji\n",
        "X_train, X_test, y_train, y_test = train_test_split(X, y, test_size=0.2, random_state=42)\n",
        "\n",
        "# Konversi data ke tensor untuk TensorFlow\n",
        "X_train_tensor = tf.convert_to_tensor(X_train, dtype=tf.float32)\n",
        "y_train_tensor = tf.convert_to_tensor(y_train, dtype=tf.int32)\n",
        "X_test_tensor = tf.convert_to_tensor(X_test, dtype=tf.float32)\n",
        "y_test_tensor = tf.convert_to_tensor(y_test, dtype=tf.int32)\n",
        "\n",
        "# Menampilkan bentuk data\n",
        "print(f\"Training data shape: {X_train_tensor.shape}, {y_train_tensor.shape}\")\n",
        "print(f\"Testing data shape: {X_test_tensor.shape}, {y_test_tensor.shape}\")"
      ]
    },
    {
      "cell_type": "code",
      "execution_count": 18,
      "metadata": {
        "colab": {
          "base_uri": "https://localhost:8080/"
        },
        "id": "OoXH0-oZfFxP",
        "outputId": "25387842-314c-42a0-87f9-ac84059eb8e0"
      },
      "outputs": [
        {
          "data": {
            "text/plain": [
              "array([-0.52174122, -0.76725159, -1.01531482,  1.        ,  1.        ,\n",
              "        0.9875586 ,  0.38564411,  0.        ,  1.        , -0.02133042,\n",
              "        0.        ,  1.10959898, -0.98629521,  2.        ,  3.        ,\n",
              "        1.01191369, -1.01191369])"
            ]
          },
          "execution_count": 18,
          "metadata": {},
          "output_type": "execute_result"
        }
      ],
      "source": [
        "X_train[0]"
      ]
    },
    {
      "cell_type": "markdown",
      "metadata": {
        "id": "xbvC5zFbeUzy"
      },
      "source": [
        "## Training Data"
      ]
    },
    {
      "cell_type": "code",
      "execution_count": 19,
      "metadata": {
        "colab": {
          "base_uri": "https://localhost:8080/"
        },
        "id": "VDeY2M5XKTGb",
        "outputId": "9dcff83a-1d34-4d2b-8277-3bcc171c9761"
      },
      "outputs": [
        {
          "name": "stdout",
          "output_type": "stream",
          "text": [
            "WARNING:tensorflow:From C:\\Users\\USER\\AppData\\Roaming\\Python\\Python311\\site-packages\\keras\\src\\backend.py:873: The name tf.get_default_graph is deprecated. Please use tf.compat.v1.get_default_graph instead.\n",
            "\n"
          ]
        }
      ],
      "source": [
        "# Membangun model\n",
        "model = keras.Sequential([\n",
        "    layers.Dense(256, activation='relu', input_shape=(X_train.shape[1], ), kernel_regularizer=keras.regularizers.l2(0.01)),\n",
        "    layers.Dropout(0.3),\n",
        "    layers.Dense(128, activation='relu', kernel_regularizer=keras.regularizers.l2(0.01)),\n",
        "    layers.Dropout(0.2),\n",
        "    layers.Dense(64, activation='relu'),\n",
        "    layers.Dense(32, activation='relu'),\n",
        "    layers.Dense(8, activation='softmax')\n",
        "])\n",
        "\n",
        "# Mengompilasi model\n",
        "optimizer = keras.optimizers.Adam(learning_rate=0.001)  # Using Adam optimizer with specified learning rate\n",
        "model.compile(optimizer=optimizer, loss='sparse_categorical_crossentropy', metrics=['accuracy'])"
      ]
    },
    {
      "cell_type": "code",
      "execution_count": 20,
      "metadata": {
        "colab": {
          "base_uri": "https://localhost:8080/",
          "height": 353
        },
        "id": "GNzaEONsbgm0",
        "outputId": "2c93a4a7-eba3-4f3e-c9a9-7185ce32372e"
      },
      "outputs": [
        {
          "name": "stdout",
          "output_type": "stream",
          "text": [
            "Model: \"sequential\"\n",
            "_________________________________________________________________\n",
            " Layer (type)                Output Shape              Param #   \n",
            "=================================================================\n",
            " dense (Dense)               (None, 256)               4608      \n",
            "                                                                 \n",
            " dropout (Dropout)           (None, 256)               0         \n",
            "                                                                 \n",
            " dense_1 (Dense)             (None, 128)               32896     \n",
            "                                                                 \n",
            " dropout_1 (Dropout)         (None, 128)               0         \n",
            "                                                                 \n",
            " dense_2 (Dense)             (None, 64)                8256      \n",
            "                                                                 \n",
            " dense_3 (Dense)             (None, 32)                2080      \n",
            "                                                                 \n",
            " dense_4 (Dense)             (None, 8)                 264       \n",
            "                                                                 \n",
            "=================================================================\n",
            "Total params: 48104 (187.91 KB)\n",
            "Trainable params: 48104 (187.91 KB)\n",
            "Non-trainable params: 0 (0.00 Byte)\n",
            "_________________________________________________________________\n"
          ]
        }
      ],
      "source": [
        "model.summary()"
      ]
    },
    {
      "cell_type": "code",
      "execution_count": 21,
      "metadata": {
        "colab": {
          "base_uri": "https://localhost:8080/"
        },
        "id": "yluqmohYKTGc",
        "outputId": "d69123be-82ae-40ca-8582-e826c1438a77"
      },
      "outputs": [
        {
          "name": "stdout",
          "output_type": "stream",
          "text": [
            "Epoch 1/100\n",
            "WARNING:tensorflow:From C:\\Users\\USER\\AppData\\Roaming\\Python\\Python311\\site-packages\\keras\\src\\utils\\tf_utils.py:492: The name tf.ragged.RaggedTensorValue is deprecated. Please use tf.compat.v1.ragged.RaggedTensorValue instead.\n",
            "\n",
            "WARNING:tensorflow:From C:\\Users\\USER\\AppData\\Roaming\\Python\\Python311\\site-packages\\keras\\src\\engine\\base_layer_utils.py:384: The name tf.executing_eagerly_outside_functions is deprecated. Please use tf.compat.v1.executing_eagerly_outside_functions instead.\n",
            "\n",
            "22/22 [==============================] - 3s 22ms/step - loss: 3.7108 - accuracy: 0.2400 - val_loss: 3.1871 - val_accuracy: 0.4556\n",
            "Epoch 2/100\n",
            "22/22 [==============================] - 0s 4ms/step - loss: 2.9284 - accuracy: 0.3852 - val_loss: 2.3815 - val_accuracy: 0.5710\n",
            "Epoch 3/100\n",
            "22/22 [==============================] - 0s 5ms/step - loss: 2.2551 - accuracy: 0.5156 - val_loss: 1.8166 - val_accuracy: 0.6095\n",
            "Epoch 4/100\n",
            "22/22 [==============================] - 0s 6ms/step - loss: 1.7942 - accuracy: 0.5933 - val_loss: 1.4699 - val_accuracy: 0.7337\n",
            "Epoch 5/100\n",
            "22/22 [==============================] - 0s 9ms/step - loss: 1.4801 - accuracy: 0.6726 - val_loss: 1.2667 - val_accuracy: 0.7308\n",
            "Epoch 6/100\n",
            "22/22 [==============================] - 0s 11ms/step - loss: 1.2950 - accuracy: 0.7000 - val_loss: 1.0343 - val_accuracy: 0.8462\n",
            "Epoch 7/100\n",
            "22/22 [==============================] - 0s 10ms/step - loss: 1.1698 - accuracy: 0.7319 - val_loss: 0.9426 - val_accuracy: 0.8580\n",
            "Epoch 8/100\n",
            "22/22 [==============================] - 0s 10ms/step - loss: 1.0476 - accuracy: 0.7704 - val_loss: 0.8527 - val_accuracy: 0.8817\n",
            "Epoch 9/100\n",
            "22/22 [==============================] - 0s 6ms/step - loss: 0.9541 - accuracy: 0.7881 - val_loss: 0.7717 - val_accuracy: 0.8817\n",
            "Epoch 10/100\n",
            "22/22 [==============================] - 0s 6ms/step - loss: 0.8670 - accuracy: 0.8156 - val_loss: 0.6924 - val_accuracy: 0.9408\n",
            "Epoch 11/100\n",
            "22/22 [==============================] - 0s 5ms/step - loss: 0.8221 - accuracy: 0.8178 - val_loss: 0.6967 - val_accuracy: 0.8728\n",
            "Epoch 12/100\n",
            "22/22 [==============================] - 0s 8ms/step - loss: 0.7831 - accuracy: 0.8244 - val_loss: 0.6167 - val_accuracy: 0.9201\n",
            "Epoch 13/100\n",
            "22/22 [==============================] - 0s 7ms/step - loss: 0.7544 - accuracy: 0.8281 - val_loss: 0.6060 - val_accuracy: 0.9172\n",
            "Epoch 14/100\n",
            "22/22 [==============================] - 0s 6ms/step - loss: 0.7419 - accuracy: 0.8156 - val_loss: 0.5661 - val_accuracy: 0.9379\n",
            "Epoch 15/100\n",
            "22/22 [==============================] - 0s 6ms/step - loss: 0.7023 - accuracy: 0.8556 - val_loss: 0.5861 - val_accuracy: 0.8905\n",
            "Epoch 16/100\n",
            "22/22 [==============================] - 0s 6ms/step - loss: 0.6839 - accuracy: 0.8563 - val_loss: 0.5650 - val_accuracy: 0.9320\n",
            "Epoch 17/100\n",
            "22/22 [==============================] - 0s 9ms/step - loss: 0.6793 - accuracy: 0.8407 - val_loss: 0.5146 - val_accuracy: 0.9408\n",
            "Epoch 18/100\n",
            "22/22 [==============================] - 0s 7ms/step - loss: 0.6124 - accuracy: 0.8778 - val_loss: 0.5058 - val_accuracy: 0.9231\n",
            "Epoch 19/100\n",
            "22/22 [==============================] - 0s 8ms/step - loss: 0.6360 - accuracy: 0.8519 - val_loss: 0.4976 - val_accuracy: 0.9320\n",
            "Epoch 20/100\n",
            "22/22 [==============================] - 0s 5ms/step - loss: 0.5927 - accuracy: 0.8689 - val_loss: 0.4575 - val_accuracy: 0.9645\n",
            "Epoch 21/100\n",
            "22/22 [==============================] - 0s 5ms/step - loss: 0.5655 - accuracy: 0.8815 - val_loss: 0.4347 - val_accuracy: 0.9556\n",
            "Epoch 22/100\n",
            "22/22 [==============================] - 0s 7ms/step - loss: 0.5435 - accuracy: 0.8852 - val_loss: 0.4526 - val_accuracy: 0.9438\n",
            "Epoch 23/100\n",
            "22/22 [==============================] - 0s 9ms/step - loss: 0.5359 - accuracy: 0.8867 - val_loss: 0.4226 - val_accuracy: 0.9497\n",
            "Epoch 24/100\n",
            "22/22 [==============================] - 0s 9ms/step - loss: 0.5369 - accuracy: 0.8837 - val_loss: 0.4190 - val_accuracy: 0.9497\n",
            "Epoch 25/100\n",
            "22/22 [==============================] - 0s 10ms/step - loss: 0.5259 - accuracy: 0.8844 - val_loss: 0.3944 - val_accuracy: 0.9586\n",
            "Epoch 26/100\n",
            "22/22 [==============================] - 0s 8ms/step - loss: 0.4744 - accuracy: 0.9170 - val_loss: 0.3918 - val_accuracy: 0.9615\n",
            "Epoch 27/100\n",
            "22/22 [==============================] - 0s 5ms/step - loss: 0.4864 - accuracy: 0.9000 - val_loss: 0.3697 - val_accuracy: 0.9586\n",
            "Epoch 28/100\n",
            "22/22 [==============================] - 0s 6ms/step - loss: 0.4602 - accuracy: 0.9133 - val_loss: 0.3601 - val_accuracy: 0.9615\n",
            "Epoch 29/100\n",
            "22/22 [==============================] - 0s 5ms/step - loss: 0.4609 - accuracy: 0.9000 - val_loss: 0.3630 - val_accuracy: 0.9527\n",
            "Epoch 30/100\n",
            "22/22 [==============================] - 0s 4ms/step - loss: 0.4637 - accuracy: 0.9052 - val_loss: 0.3639 - val_accuracy: 0.9467\n",
            "Epoch 31/100\n",
            "22/22 [==============================] - 0s 6ms/step - loss: 0.4644 - accuracy: 0.9000 - val_loss: 0.3610 - val_accuracy: 0.9438\n",
            "Epoch 32/100\n",
            "22/22 [==============================] - 0s 6ms/step - loss: 0.4555 - accuracy: 0.8963 - val_loss: 0.3435 - val_accuracy: 0.9704\n",
            "Epoch 33/100\n",
            "22/22 [==============================] - 0s 4ms/step - loss: 0.4479 - accuracy: 0.9037 - val_loss: 0.3469 - val_accuracy: 0.9586\n",
            "Epoch 34/100\n",
            "22/22 [==============================] - 0s 4ms/step - loss: 0.4215 - accuracy: 0.9230 - val_loss: 0.3758 - val_accuracy: 0.9438\n",
            "Epoch 35/100\n",
            "22/22 [==============================] - 0s 5ms/step - loss: 0.4281 - accuracy: 0.9081 - val_loss: 0.3643 - val_accuracy: 0.9497\n",
            "Epoch 36/100\n",
            "22/22 [==============================] - 0s 5ms/step - loss: 0.4544 - accuracy: 0.9067 - val_loss: 0.3477 - val_accuracy: 0.9734\n",
            "Epoch 37/100\n",
            "22/22 [==============================] - 0s 6ms/step - loss: 0.4317 - accuracy: 0.9119 - val_loss: 0.3284 - val_accuracy: 0.9615\n",
            "Epoch 38/100\n",
            "22/22 [==============================] - 0s 6ms/step - loss: 0.4214 - accuracy: 0.9156 - val_loss: 0.3433 - val_accuracy: 0.9497\n",
            "Epoch 39/100\n",
            "22/22 [==============================] - 0s 5ms/step - loss: 0.4043 - accuracy: 0.9207 - val_loss: 0.3075 - val_accuracy: 0.9645\n",
            "Epoch 40/100\n",
            "22/22 [==============================] - 0s 5ms/step - loss: 0.4078 - accuracy: 0.9096 - val_loss: 0.3377 - val_accuracy: 0.9586\n",
            "Epoch 41/100\n",
            "22/22 [==============================] - 0s 5ms/step - loss: 0.4116 - accuracy: 0.9148 - val_loss: 0.3135 - val_accuracy: 0.9556\n",
            "Epoch 42/100\n",
            "22/22 [==============================] - 0s 4ms/step - loss: 0.3912 - accuracy: 0.9222 - val_loss: 0.3049 - val_accuracy: 0.9675\n",
            "Epoch 43/100\n",
            "22/22 [==============================] - 0s 4ms/step - loss: 0.4187 - accuracy: 0.9067 - val_loss: 0.3029 - val_accuracy: 0.9645\n",
            "Epoch 44/100\n",
            "22/22 [==============================] - 0s 7ms/step - loss: 0.3848 - accuracy: 0.9230 - val_loss: 0.2963 - val_accuracy: 0.9497\n",
            "Epoch 45/100\n",
            "22/22 [==============================] - 0s 5ms/step - loss: 0.3688 - accuracy: 0.9274 - val_loss: 0.2785 - val_accuracy: 0.9675\n",
            "Epoch 46/100\n",
            "22/22 [==============================] - 0s 4ms/step - loss: 0.3653 - accuracy: 0.9296 - val_loss: 0.2993 - val_accuracy: 0.9556\n",
            "Epoch 47/100\n",
            "22/22 [==============================] - 0s 4ms/step - loss: 0.4058 - accuracy: 0.9089 - val_loss: 0.2931 - val_accuracy: 0.9704\n",
            "Epoch 48/100\n",
            "22/22 [==============================] - 0s 3ms/step - loss: 0.3693 - accuracy: 0.9207 - val_loss: 0.3073 - val_accuracy: 0.9467\n",
            "Epoch 49/100\n",
            "22/22 [==============================] - 0s 3ms/step - loss: 0.4251 - accuracy: 0.9059 - val_loss: 0.3106 - val_accuracy: 0.9527\n",
            "Epoch 50/100\n",
            "22/22 [==============================] - 0s 3ms/step - loss: 0.3926 - accuracy: 0.9067 - val_loss: 0.2796 - val_accuracy: 0.9675\n",
            "Epoch 51/100\n",
            "22/22 [==============================] - 0s 3ms/step - loss: 0.3942 - accuracy: 0.9111 - val_loss: 0.2799 - val_accuracy: 0.9704\n",
            "Epoch 52/100\n",
            "22/22 [==============================] - 0s 3ms/step - loss: 0.3575 - accuracy: 0.9319 - val_loss: 0.2796 - val_accuracy: 0.9734\n",
            "Epoch 53/100\n",
            "22/22 [==============================] - 0s 3ms/step - loss: 0.3582 - accuracy: 0.9281 - val_loss: 0.2688 - val_accuracy: 0.9763\n",
            "Epoch 54/100\n",
            "22/22 [==============================] - 0s 3ms/step - loss: 0.3458 - accuracy: 0.9259 - val_loss: 0.2587 - val_accuracy: 0.9822\n",
            "Epoch 55/100\n",
            "22/22 [==============================] - 0s 4ms/step - loss: 0.3530 - accuracy: 0.9259 - val_loss: 0.3041 - val_accuracy: 0.9408\n",
            "Epoch 56/100\n",
            "22/22 [==============================] - 0s 3ms/step - loss: 0.3680 - accuracy: 0.9141 - val_loss: 0.3344 - val_accuracy: 0.9349\n",
            "Epoch 57/100\n",
            "22/22 [==============================] - 0s 3ms/step - loss: 0.3994 - accuracy: 0.9081 - val_loss: 0.2764 - val_accuracy: 0.9734\n",
            "Epoch 58/100\n",
            "22/22 [==============================] - 0s 4ms/step - loss: 0.3481 - accuracy: 0.9296 - val_loss: 0.2785 - val_accuracy: 0.9734\n",
            "Epoch 59/100\n",
            "22/22 [==============================] - 0s 3ms/step - loss: 0.3294 - accuracy: 0.9363 - val_loss: 0.2596 - val_accuracy: 0.9675\n",
            "Epoch 60/100\n",
            "22/22 [==============================] - 0s 3ms/step - loss: 0.3212 - accuracy: 0.9422 - val_loss: 0.2767 - val_accuracy: 0.9645\n",
            "Epoch 61/100\n",
            "22/22 [==============================] - 0s 3ms/step - loss: 0.3342 - accuracy: 0.9326 - val_loss: 0.2486 - val_accuracy: 0.9763\n",
            "Epoch 62/100\n",
            "22/22 [==============================] - 0s 3ms/step - loss: 0.3330 - accuracy: 0.9393 - val_loss: 0.2685 - val_accuracy: 0.9615\n",
            "Epoch 63/100\n",
            "22/22 [==============================] - 0s 3ms/step - loss: 0.3333 - accuracy: 0.9333 - val_loss: 0.2595 - val_accuracy: 0.9675\n",
            "Epoch 64/100\n",
            "22/22 [==============================] - 0s 3ms/step - loss: 0.3043 - accuracy: 0.9504 - val_loss: 0.2513 - val_accuracy: 0.9645\n",
            "Epoch 65/100\n",
            "22/22 [==============================] - 0s 3ms/step - loss: 0.2949 - accuracy: 0.9496 - val_loss: 0.2424 - val_accuracy: 0.9704\n",
            "Epoch 66/100\n",
            "22/22 [==============================] - 0s 3ms/step - loss: 0.3010 - accuracy: 0.9467 - val_loss: 0.2771 - val_accuracy: 0.9556\n",
            "Epoch 67/100\n",
            "22/22 [==============================] - 0s 4ms/step - loss: 0.3072 - accuracy: 0.9474 - val_loss: 0.2375 - val_accuracy: 0.9645\n",
            "Epoch 68/100\n",
            "22/22 [==============================] - 0s 3ms/step - loss: 0.3191 - accuracy: 0.9370 - val_loss: 0.2532 - val_accuracy: 0.9556\n",
            "Epoch 69/100\n",
            "22/22 [==============================] - 0s 3ms/step - loss: 0.3439 - accuracy: 0.9193 - val_loss: 0.2484 - val_accuracy: 0.9675\n",
            "Epoch 70/100\n",
            "22/22 [==============================] - 0s 3ms/step - loss: 0.3210 - accuracy: 0.9281 - val_loss: 0.2732 - val_accuracy: 0.9497\n",
            "Epoch 71/100\n",
            "22/22 [==============================] - 0s 3ms/step - loss: 0.3155 - accuracy: 0.9385 - val_loss: 0.2437 - val_accuracy: 0.9704\n",
            "Epoch 72/100\n",
            "22/22 [==============================] - 0s 3ms/step - loss: 0.3043 - accuracy: 0.9452 - val_loss: 0.2304 - val_accuracy: 0.9704\n",
            "Epoch 73/100\n",
            "22/22 [==============================] - 0s 3ms/step - loss: 0.2909 - accuracy: 0.9511 - val_loss: 0.2219 - val_accuracy: 0.9793\n",
            "Epoch 74/100\n",
            "22/22 [==============================] - 0s 3ms/step - loss: 0.3162 - accuracy: 0.9311 - val_loss: 0.2339 - val_accuracy: 0.9793\n",
            "Epoch 75/100\n",
            "22/22 [==============================] - 0s 3ms/step - loss: 0.2943 - accuracy: 0.9467 - val_loss: 0.2285 - val_accuracy: 0.9645\n",
            "Epoch 76/100\n",
            "22/22 [==============================] - 0s 3ms/step - loss: 0.3235 - accuracy: 0.9296 - val_loss: 0.2500 - val_accuracy: 0.9586\n",
            "Epoch 77/100\n",
            "22/22 [==============================] - 0s 3ms/step - loss: 0.3150 - accuracy: 0.9385 - val_loss: 0.2288 - val_accuracy: 0.9763\n",
            "Epoch 78/100\n",
            "22/22 [==============================] - 0s 3ms/step - loss: 0.2862 - accuracy: 0.9519 - val_loss: 0.2300 - val_accuracy: 0.9645\n",
            "Epoch 79/100\n",
            "22/22 [==============================] - 0s 3ms/step - loss: 0.2996 - accuracy: 0.9467 - val_loss: 0.2463 - val_accuracy: 0.9586\n",
            "Epoch 80/100\n",
            "22/22 [==============================] - 0s 3ms/step - loss: 0.2967 - accuracy: 0.9444 - val_loss: 0.2282 - val_accuracy: 0.9822\n",
            "Epoch 81/100\n",
            "22/22 [==============================] - 0s 3ms/step - loss: 0.3007 - accuracy: 0.9407 - val_loss: 0.2369 - val_accuracy: 0.9675\n",
            "Epoch 82/100\n",
            "22/22 [==============================] - 0s 3ms/step - loss: 0.2999 - accuracy: 0.9407 - val_loss: 0.2587 - val_accuracy: 0.9527\n",
            "Epoch 83/100\n",
            "22/22 [==============================] - 0s 3ms/step - loss: 0.2919 - accuracy: 0.9422 - val_loss: 0.2861 - val_accuracy: 0.9320\n",
            "Epoch 84/100\n",
            "22/22 [==============================] - 0s 3ms/step - loss: 0.3068 - accuracy: 0.9378 - val_loss: 0.2845 - val_accuracy: 0.9379\n",
            "Epoch 85/100\n",
            "22/22 [==============================] - 0s 3ms/step - loss: 0.2997 - accuracy: 0.9356 - val_loss: 0.2305 - val_accuracy: 0.9704\n",
            "Epoch 86/100\n",
            "22/22 [==============================] - 0s 3ms/step - loss: 0.2675 - accuracy: 0.9519 - val_loss: 0.2239 - val_accuracy: 0.9645\n",
            "Epoch 87/100\n",
            "22/22 [==============================] - 0s 3ms/step - loss: 0.2663 - accuracy: 0.9570 - val_loss: 0.2461 - val_accuracy: 0.9645\n",
            "Epoch 88/100\n",
            "22/22 [==============================] - 0s 3ms/step - loss: 0.3004 - accuracy: 0.9378 - val_loss: 0.2619 - val_accuracy: 0.9527\n",
            "Epoch 89/100\n",
            "22/22 [==============================] - 0s 4ms/step - loss: 0.2734 - accuracy: 0.9467 - val_loss: 0.2129 - val_accuracy: 0.9793\n",
            "Epoch 90/100\n",
            "22/22 [==============================] - 0s 4ms/step - loss: 0.2785 - accuracy: 0.9437 - val_loss: 0.2023 - val_accuracy: 0.9704\n",
            "Epoch 91/100\n",
            "22/22 [==============================] - 0s 4ms/step - loss: 0.3079 - accuracy: 0.9370 - val_loss: 0.2215 - val_accuracy: 0.9763\n",
            "Epoch 92/100\n",
            "22/22 [==============================] - 0s 3ms/step - loss: 0.2854 - accuracy: 0.9467 - val_loss: 0.2673 - val_accuracy: 0.9438\n",
            "Epoch 93/100\n",
            "22/22 [==============================] - 0s 3ms/step - loss: 0.2738 - accuracy: 0.9570 - val_loss: 0.2231 - val_accuracy: 0.9675\n",
            "Epoch 94/100\n",
            "22/22 [==============================] - 0s 3ms/step - loss: 0.2801 - accuracy: 0.9481 - val_loss: 0.2120 - val_accuracy: 0.9704\n",
            "Epoch 95/100\n",
            "22/22 [==============================] - 0s 3ms/step - loss: 0.3233 - accuracy: 0.9252 - val_loss: 0.2154 - val_accuracy: 0.9675\n",
            "Epoch 96/100\n",
            "22/22 [==============================] - 0s 3ms/step - loss: 0.2927 - accuracy: 0.9511 - val_loss: 0.2183 - val_accuracy: 0.9734\n",
            "Epoch 97/100\n",
            "22/22 [==============================] - 0s 3ms/step - loss: 0.2649 - accuracy: 0.9563 - val_loss: 0.2333 - val_accuracy: 0.9586\n",
            "Epoch 98/100\n",
            "22/22 [==============================] - 0s 4ms/step - loss: 0.2695 - accuracy: 0.9504 - val_loss: 0.2076 - val_accuracy: 0.9704\n",
            "Epoch 99/100\n",
            "22/22 [==============================] - 0s 3ms/step - loss: 0.2565 - accuracy: 0.9578 - val_loss: 0.2822 - val_accuracy: 0.9438\n",
            "Epoch 100/100\n",
            "22/22 [==============================] - 0s 3ms/step - loss: 0.2999 - accuracy: 0.9400 - val_loss: 0.2462 - val_accuracy: 0.9645\n"
          ]
        }
      ],
      "source": [
        "# Melatih model\n",
        "history = model.fit(X_train, y_train, epochs=100, batch_size=64, validation_split=0.2)"
      ]
    },
    {
      "cell_type": "code",
      "execution_count": 22,
      "metadata": {
        "colab": {
          "base_uri": "https://localhost:8080/",
          "height": 916
        },
        "id": "lWXcwTSeKTGd",
        "outputId": "fbc16713-672b-4108-f826-371e82910844"
      },
      "outputs": [
        {
          "name": "stdout",
          "output_type": "stream",
          "text": [
            "14/14 [==============================] - 0s 2ms/step - loss: 0.2938 - accuracy: 0.9433\n",
            "Test Accuracy: 0.9433\n"
          ]
        },
        {
          "data": {
            "image/png": "[encoded data removed]",
            "text/plain": [
              "<Figure size 640x480 with 1 Axes>"
            ]
          },
          "metadata": {},
          "output_type": "display_data"
        },
        {
          "data": {
            "image/png": "[encoded data removed]",
            "text/plain": [
              "<Figure size 640x480 with 1 Axes>"
            ]
          },
          "metadata": {},
          "output_type": "display_data"
        }
      ],
      "source": [
        "# Evaluasi model\n",
        "loss, accuracy = model.evaluate(X_test, y_test)\n",
        "print(f'Test Accuracy: {accuracy:.4f}')\n",
        "\n",
        "# Menampilkan grafik akurasi dan loss\n",
        "import matplotlib.pyplot as plt\n",
        "\n",
        "plt.plot(history.history['accuracy'], label='accuracy')\n",
        "plt.plot(history.history['val_accuracy'], label='val_accuracy')\n",
        "plt.xlabel('Epoch')\n",
        "plt.ylabel('Accuracy')\n",
        "plt.legend()\n",
        "plt.show()\n",
        "\n",
        "plt.plot(history.history['loss'], label='loss')\n",
        "plt.plot(history.history['val_loss'], label='val_loss')\n",
        "plt.xlabel('Epoch')\n",
        "plt.ylabel('Loss')\n",
        "plt.legend()\n",
        "plt.show()"
      ]
    },
    {
      "cell_type": "code",
      "execution_count": 23,
      "metadata": {
        "colab": {
          "base_uri": "https://localhost:8080/"
        },
        "id": "0KDYr6lbKTGe",
        "outputId": "75b72f29-95ac-4159-a939-49806dcc4876"
      },
      "outputs": [
        {
          "name": "stderr",
          "output_type": "stream",
          "text": [
            "C:\\Users\\USER\\AppData\\Roaming\\Python\\Python311\\site-packages\\keras\\src\\engine\\training.py:3103: UserWarning: You are saving your model as an HDF5 file via `model.save()`. This file format is considered legacy. We recommend using instead the native Keras format, e.g. `model.save('my_model.keras')`.\n",
            "  saving_api.save_model(\n"
          ]
        }
      ],
      "source": [
        "# Menyimpan model\n",
        "# model.save('obesity_classification_model.keras')\n",
        "model.save(\"./models/model.h5\", save_format=\"h5\")"
      ]
    },
    {
      "cell_type": "code",
      "execution_count": null,
      "metadata": {
        "id": "KBVwe7kCheKg"
      },
      "outputs": [],
      "source": [
        "import numpy as np\n",
        "import tensorflow as tf\n",
        "from sklearn.preprocessing import LabelEncoder\n",
        "\n",
        "# 1. Muat model yang sudah dilatih\n",
        "model = tf.keras.models.load_model('obesity_classification_model.h5')  # Ganti dengan path model Anda\n",
        "\n",
        "# 2. Input data baru untuk prediksi dengan hanya 18 fitur yang diperlukan\n",
        "# Pastikan data yang dimasukkan sesuai dengan fitur yang diinginkan oleh model\n",
        "\n",
        "# Data input sesuai dengan struktur yang diharapkan oleh model\n",
        "# Menggunakan data baru (input data yang benar-benar terstruktur sesuai model)\n",
        "input_data = np.array([[1,   # Gender (1 = Male)\n",
        "                       27,  # Age (Usia 21 tahun)\n",
        "                       1.64, # Height (Tinggi 164 cm)\n",
        "                       74,  # Weight (Berat badan 70 kg)\n",
        "                       0,   # Family History (0 = Tidak ada riwayat obesitas)\n",
        "                       0,   # Frequent High Caloric Food Consumption ()\n",
        "                       3,   # Frequency VEgetables (0 = Tidak pernah berolahraga)\n",
        "                       3,   # Number of main meals (2 = Lebih dari 2 jam sehari)\n",
        "                       2,   # Food between (1 = Kebiasaan makan baik)\n",
        "                       0,   # Smoking (0 = Tidak merokok)\n",
        "                       2,   # Water Daily (0 = Tidak konsumsi alkohol)\n",
        "                       0,   # Calories Consum Mon (1 = Lebih dari 8 gelas per hari)\n",
        "                       2,   # Physical Frequency (0 = Tidak memantau kalori)\n",
        "                       0,   # Time Using Devices (1 = Sering makan di antara waktu makan)\n",
        "                       1,   # Alcohol (2 = 3 kali sehari)\n",
        "                       4,   # Transportasion (1 = Sering makan sayuran)\n",
        "                       1 ]])  # Obesity (3 = 3 kali makan utama sehari)\n",
        "\n",
        "\n",
        "# 3. Pastikan data input sesuai dengan model yang sudah dilatih\n",
        "# Jika model mengharuskan input dalam bentuk array dengan ukuran tertentu, pastikan input_data memiliki dimensi yang benar\n",
        "input_data = input_data.astype(np.float32)  # Pastikan tipe data sesuai\n",
        "\n",
        "# 4. Prediksi kelas obesitas\n",
        "predictions = model.predict(input_data)\n",
        "\n",
        "# 5. Ambil kelas obesitas yang diprediksi\n",
        "predicted_class = np.argmax(predictions, axis=1)\n",
        "\n",
        "# 6. Konver4si angka kelas menjadi label kelas\n",
        "# Daftar label kelas obesitas asli (urutannya sesuai saat pelatihan)\n",
        "obesity_labels = [\n",
        "    \"Underweight\", \"Normal weight\", \"Obesity Type I\",\n",
        "    \"Obesity Type II\", \"Obesity Type III\", \"Overweight Level I\", \"Overweight Level II\"\n",
        "]\n",
        "\n",
        "predicted_label = [obesity_labels[i] for i in predicted_class]\n",
        "\n",
        "# 7. Output hasil prediksi\n",
        "print(\"Prediksi Probabilitas:\", predictions)\n",
        "print(\"Kelas Obesitas yang Diprediksi:\", predicted_label)\n"
      ]
    }
  ],
  "metadata": {
    "colab": {
      "gpuType": "T4",
      "provenance": []
    },
    "kernelspec": {
      "display_name": "Python 3",
      "name": "python3"
    },
    "language_info": {
      "codemirror_mode": {
        "name": "ipython",
        "version": 3
      },
      "file_extension": ".py",
      "mimetype": "text/x-python",
      "name": "python",
      "nbconvert_exporter": "python",
      "pygments_lexer": "ipython3",
      "version": "3.11.3"
    }
  },
  "nbformat": 4,
  "nbformat_minor": 0
}
